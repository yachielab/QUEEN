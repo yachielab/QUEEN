{
 "cells": [
  {
   "cell_type": "code",
   "execution_count": 1,
   "id": "6fd27647",
   "metadata": {},
   "outputs": [
    {
     "data": {
      "text/plain": [
       "<Figure size 100x100 with 0 Axes>"
      ]
     },
     "metadata": {},
     "output_type": "display_data"
    }
   ],
   "source": [
    "import sys \n",
    "sys.path.append(\"/Users/hideto/dropbox/HIDETO_MORI.LAB/Experiments/Project/Dbrick/github\")\n",
    "from QUEEN.queen import *\n",
    "if \"output\" not in os.listdir(\"./\"):\n",
    "    os.mkdir(\"output\")"
   ]
  },
  {
   "cell_type": "markdown",
   "id": "4751d4d8",
   "metadata": {},
   "source": [
    "----\n",
    "#### Example code 1: Create a QUEEN class object (blunt-ends) \n",
    "A `QUEEN_object` (blunt-end) is created by providing its top-stranded sequence (5’-to-3’). By default, the DNA topology will be linear."
   ]
  },
  {
   "cell_type": "code",
   "execution_count": 2,
   "id": "4956cc2f",
   "metadata": {},
   "outputs": [],
   "source": [
    "dna = QUEEN(seq=\"CCGGTATGCGTCGA\")"
   ]
  },
  {
   "cell_type": "markdown",
   "id": "534d3b5b",
   "metadata": {},
   "source": [
    "-----\n",
    "#### Example code 2: Create a QUEEN class object (sticky-end)\n",
    "The left and right values separated by `\"/\"` show the top and bottom strand sequences of the generating `QUEEN_object`, respectively. The top strand sequence is provided in the 5’-to-3’ direction from left to right, whereas the bottom strand sequence is provided in the 3′-to-5′ direction from left to right. Single-stranded regions can be provided by `\"-\"` for the corresponding nucleotide positions on the opposite strands. A:T and G:C base-pairing rule is required between the two strings except for the single-stranded positions."
   ]
  },
  {
   "cell_type": "code",
   "execution_count": 3,
   "id": "c800d23b",
   "metadata": {},
   "outputs": [],
   "source": [
    "dna = QUEEN(seq=\"CCGGTATGCG----/----ATACGCAGCT\") "
   ]
  },
  {
   "cell_type": "markdown",
   "id": "9b788ec4",
   "metadata": {},
   "source": [
    "----\n",
    "#### Example code 3: Create a circular QUEEN object\n",
    "The sequence toology of generating `QUEEN_object` can be specified by `\"linear\"` or `\"circular\"`."
   ]
  },
  {
   "cell_type": "code",
   "execution_count": 4,
   "id": "d22bfabd",
   "metadata": {
    "tags": []
   },
   "outputs": [],
   "source": [
    "dna = QUEEN(seq=\"CCGGTATGCGTCGA\", topology=\"circular\") "
   ]
  },
  {
   "cell_type": "markdown",
   "id": "6e68d752",
   "metadata": {
    "tags": []
   },
   "source": [
    "----\n",
    "#### Example code 4.1: Create a QUEEN class object from a GenBank file in a local directory \n",
    "GenBank file can be loaded by specifying its local file path."
   ]
  },
  {
   "cell_type": "code",
   "execution_count": 5,
   "id": "279cabf1",
   "metadata": {},
   "outputs": [],
   "source": [
    "plasmid  = QUEEN(record=\"input/pX330.gbk\")"
   ]
  },
  {
   "cell_type": "markdown",
   "id": "97c00220",
   "metadata": {},
   "source": [
    "#### Example code 4.2: Create a QUEEN class object using a NCBI accession number\n",
    "`QUEEN_object` can be generated from a NCBI accession number with `dbtype=\"ncbi\"`. "
   ]
  },
  {
   "cell_type": "code",
   "execution_count": 6,
   "id": "c31a4656",
   "metadata": {},
   "outputs": [],
   "source": [
    "pUC19 = QUEEN(record=\"M77789.2\", dbtype=\"ncbi\")"
   ]
  },
  {
   "cell_type": "markdown",
   "id": "78da4473",
   "metadata": {},
   "source": [
    "#### Example code 4.3: Create a QUEEN class object using an Addgene plasmid ID\n",
    "`QUEEN_object` can be generated from an Addgene plasmid ID with `dbtype=\"addgene\"`."
   ]
  },
  {
   "cell_type": "code",
   "execution_count": 7,
   "id": "59cd26ca",
   "metadata": {},
   "outputs": [],
   "source": [
    "pUC19 = QUEEN(record=\"50005\", dbtype=\"addgene\")"
   ]
  },
  {
   "cell_type": "markdown",
   "id": "b240684f",
   "metadata": {},
   "source": [
    "#### Example code 4.4: Create a QUEEN class object from a Benchling share link\n",
    "`QUEEN_object` can be generated from a Benchling shared link with `dbtype=\"benchling\"`."
   ]
  },
  {
   "cell_type": "code",
   "execution_count": 8,
   "id": "b441e137",
   "metadata": {},
   "outputs": [],
   "source": [
    "plasmid = QUEEN(record=\"https://benchling.com/s/seq-U4pePb09KHutQzjyOPQV\", dbtype=\"benchling\")"
   ]
  },
  {
   "cell_type": "markdown",
   "id": "5ba3729c",
   "metadata": {},
   "source": [
    "pX330 plasmid encoding a Cas9 gene and a gRNA expression unit is provided in the above example. The `QUEEN_object` generated here is used in the following example codes in this document."
   ]
  },
  {
   "cell_type": "markdown",
   "id": "2105b6a8",
   "metadata": {},
   "source": [
    "----\n",
    "#### Example code 5: Print a dsDNA object"
   ]
  },
  {
   "cell_type": "code",
   "execution_count": 9,
   "id": "a765ee3e",
   "metadata": {},
   "outputs": [
    {
     "name": "stdout",
     "output_type": "stream",
     "text": [
      "5' CCGGTATGCG---- 3'\n",
      "3' ----ATACGCAGCT 5'\n",
      "\n"
     ]
    },
    {
     "data": {
      "text/plain": [
       "'CCGGTATGCG----/----ATACGCAGCT'"
      ]
     },
     "execution_count": 9,
     "metadata": {},
     "output_type": "execute_result"
    }
   ],
   "source": [
    "fragment = QUEEN(seq=\"CCGGTATGCG----/----ATACGCAGCT\") \n",
    "fragment.printsequence(display=True)"
   ]
  },
  {
   "cell_type": "markdown",
   "id": "41551271",
   "metadata": {},
   "source": [
    "----\n",
    "#### Example code 6: Print DNA features in a well-formatted table"
   ]
  },
  {
   "cell_type": "code",
   "execution_count": 10,
   "id": "dca80362",
   "metadata": {},
   "outputs": [
    {
     "name": "stdout",
     "output_type": "stream",
     "text": [
      "feature_id  feature_type   qualifier:label     start  end   strand  \n",
      "0           source         source              0      8484  +       \n",
      "100         primer_bind    hU6-F               0      21    +       \n",
      "200         promoter       U6 promoter         0      241   +       \n",
      "300         primer_bind    LKO.1 5'            171    191   +       \n",
      "400         misc_RNA       gRNA scaffold       267    343   +       \n",
      "500         enhancer       CMV enhancer        439    725   +       \n",
      "600         intron         hybrid intron       983    1211  +       \n",
      "700         regulatory     Kozak sequence      1222   1232  +       \n",
      "800         CDS            3xFLAG              1231   1297  +       \n",
      "900         CDS            SV40 NLS            1303   1324  +       \n",
      "1000        CDS            Cas9                1348   5449  +       \n",
      "1100        CDS            nucleoplasmin NLS   5449   5497  +       \n",
      "1200        primer_bind    BGH-rev             5524   5542  -       \n",
      "1300        polyA_signal   bGH poly(A) signal  5530   5738  +       \n",
      "1400        repeat_region  AAV2 ITR            5746   5876  +       \n",
      "1500        repeat_region  AAV2 ITR            5746   5887  +       \n",
      "1600        rep_origin     f1 ori              5961   6417  +       \n",
      "1700        primer_bind    F1ori-R             6048   6068  -       \n",
      "1800        primer_bind    F1ori-F             6258   6280  +       \n",
      "1900        primer_bind    pRS-marker          6433   6453  -       \n",
      "2000        primer_bind    pGEX 3'             6552   6575  +       \n",
      "2100        primer_bind    pBRforEco           6612   6631  -       \n",
      "2200        promoter       AmpR promoter       6698   6803  +       \n",
      "2300        CDS            AmpR                6803   7664  +       \n",
      "2400        primer_bind    Amp-R               7021   7041  -       \n",
      "2500        rep_origin     ori                 7834   8423  +       \n",
      "2600        primer_bind    pBR322ori-F         8323   8343  +       \n",
      "\n"
     ]
    }
   ],
   "source": [
    "plasmid.printfeature()"
   ]
  },
  {
   "cell_type": "markdown",
   "id": "6c3ef2b2",
   "metadata": {},
   "source": [
    "----\n",
    "#### Example code 7: Search for a DNA sequence motif with regular expression"
   ]
  },
  {
   "cell_type": "code",
   "execution_count": 11,
   "id": "15aab038",
   "metadata": {},
   "outputs": [
    {
     "name": "stdout",
     "output_type": "stream",
     "text": [
      "start  end   strand  sequence                 \n",
      "115    138   +       GTAGAAAGTAATAATTTCTTGGG  \n",
      "523    546   +       GACTTTCCATTGACGTCAATGGG  \n",
      "816    839   +       GTGCAGCGATGGGGGCGGGGGGG  \n",
      "1372   1395  +       GACATCGGCACCAACTCTGTGGG  \n",
      "1818   1841  +       GGCCCACATGATCAAGTTCCGGG  \n",
      "3097   3120  +       GATCGGTTCAACGCCTCCCTGGG  \n",
      "3300   3323  +       GCGGCGGAGATACACCGGCTGGG  \n",
      "3336   3359  +       GAAGCTGATCAACGGCATCCGGG  \n",
      "3529   3552  +       GGCAGCCCCGCCATTAAGAAGGG  \n",
      "3577   3600  +       GACGAGCTCGTGAAAGTGATGGG  \n",
      "3640   3663  +       GAGAACCAGACCACCCAGAAGGG  \n",
      "3697   3720  +       GAAGAGGGCATCAAAGAGCTGGG  \n",
      "3783   3806  +       GTACTACCTGCAGAATGGGCGGG  \n",
      "3915   3938  +       GACCAGAAGCGACAAGAACCGGG  \n",
      "4303   4326  +       GCCTACCTGAACGCCGTCGTGGG  \n",
      "4552   4575  +       GGGGAGATCGTGTGGGATAAGGG  \n",
      "4701   4724  +       GATCGCCAGAAAGAAGGACTGGG  \n",
      "4777   4800  +       GTGGTGGCCAAAGTGGAAAAGGG  \n",
      "5217   5240  +       GTCCGCCTACAACAAGCACCGGG  \n",
      "5653   5676  +       GTAGGTGTCATTCTATTCTGGGG  \n",
      "5679   5702  +       GGGGTGGGGCAGGACAGCAAGGG  \n",
      "5866   5889  +       GAGCGCGCAGCTGCCTGCAGGGG  \n",
      "6158   6181  +       GACCCCAAAAAACTTGATTTGGG  \n",
      "6303   6326  +       GCTATTCTTTTGATTTATAAGGG  \n",
      "6534   6557  +       GACAAGCTGTGACCGTCTCCGGG  \n",
      "6667   6690  +       GACGTCAGGTGGCACTTTTCGGG  \n",
      "6908   6931  +       GATCAGTTGGGTGCACGAGTGGG  \n",
      "7524   7547  +       GCGGTATCATTGCAGCACTGGGG  \n",
      "8082   8105  +       GCGATAAGTCGTGTCTTACCGGG  \n",
      "8135   8158  +       GCGCAGCGGTCGGGCTGAACGGG  \n",
      "8302   8325  +       GCGCACGAGGGAGCTTCCAGGGG  \n",
      "8334   8357  +       GGTATCTTTATAGTCCTGTCGGG  \n",
      "8382   8405  +       GATTTTTGTGATGCTCGTCAGGG  \n",
      "8466   5     +       GGCCTTTTGCTCACATGTGAGGG  \n",
      "493    516   -       GCGTTACTATTGACGTCAATGGG  \n",
      "654    677   -       GTCCCATAAGGTCATGTACTGGG  \n",
      "758    781   -       GGTGGGGAGGGGGGGGAGATGGG  \n",
      "1014   1037  -       GCGCGAGGCGGCGGCGGAGCGGG  \n",
      "1301   1324  -       GACCTTCCGCTTCTTCTTTGGGG  \n",
      "1820   1843  -       GCCCCGGAACTTGATCATGTGGG  \n",
      "2090   2113  -       GAAGTTGCTCTTGAAGTTGGGGG  \n",
      "2183   2206  -       GGCGTACTGGTCGCCGATCTGGG  \n",
      "2288   2311  -       GATCATAGAGGCGCTCAGGGGGG  \n",
      "2689   2712  -       GCCAGAGGGCCCACGTAGTAGGG  \n",
      "3534   3557  -       GGATGCCCTTCTTAATGGCGGGG  \n",
      "3653   3676  -       GCTGTTCTTCTGTCCCTTCTGGG  \n",
      "3741   3764  -       GCAGCTGGGTGTTTTCCACGGGG  \n",
      "4154   4177  -       GTCGTACTTAGTGTTCATCCGGG  \n",
      "4214   4237  -       GGACACCAGCTTGGACTTCAGGG  \n",
      "4295   4318  -       GGCGTTCAGGTAGGCGTCGTGGG  \n",
      "4752   4775  -       GCACAGAATAGGCCACGGTGGGG  \n",
      "4949   4972  -       GCCGTTTTCCAGCTCGAACAGGG  \n",
      "5024   5047  -       GTTCACATATTTGGAGGGCAGGG  \n",
      "5088   5111  -       GTTTCTGCTCATTATCCTCGGGG  \n",
      "5381   5404  -       GGTGATGCTCTGGTGGATCAGGG  \n",
      "5565   5588  -       GTCAAGGAAGGCACGGGGGAGGG  \n",
      "5751   5774  -       GTGGCCAACTCCATCACTAGGGG  \n",
      "5966   5989  -       GCGCTTAATGCGCCGCTACAGGG  \n",
      "6044   6067  -       GGGAAGAAAGCGAAAGGAGCGGG  \n",
      "6206   6229  -       GGGCGAAAAACCGTCTATCAGGG  \n",
      "6467   6490  -       GCGGGTGTTGGCGGGTGTCGGGG  \n",
      "6497   6520  -       GGGAGCAGACAAGCCCGTCAGGG  \n",
      "7771   7794  -       GGAACGAAAACTCACGTTAAGGG  \n",
      "7808   7831  -       GATCCTTTGATCTTTTCTACGGG  \n",
      "\n"
     ]
    }
   ],
   "source": [
    "match_list = plasmid.searchsequence(query=\"G[ATGC]{19}GGG\")\n",
    "plasmid.printfeature(match_list, seq=True, attribute=[\"start\", \"end\", \"strand\"])"
   ]
  },
  {
   "cell_type": "markdown",
   "id": "76837fe4",
   "metadata": {},
   "source": [
    "-----\n",
    "#### Example code 8: Search DNA sequences with a fuzzy matching\n",
    "Search for `\"AAAAAAAA\"` sequence, permitting a single nucleotide mismatch."
   ]
  },
  {
   "cell_type": "code",
   "execution_count": 12,
   "id": "2f677b73",
   "metadata": {},
   "outputs": [
    {
     "name": "stdout",
     "output_type": "stream",
     "text": [
      "feature_id  feature_type  qualifier:label  start  end   strand  sequence  \n",
      "null        misc_feature  null             5484   5492  +       AAAAAAGA  \n",
      "null        misc_feature  null             6369   6377  +       AACAAAAA  \n",
      "null        misc_feature  null             7872   7880  +       AAACAAAA  \n",
      "null        misc_feature  null             346    354   -       AAAACAAA  \n",
      "null        misc_feature  null             799    807   -       AAAAAATA  \n",
      "null        misc_feature  null             1201   1209  -       GAAAAAAA  \n",
      "null        misc_feature  null             6716   6724  -       AAAAATAA  \n",
      "null        misc_feature  null             7844   7852  -       AGAAAAAA  \n",
      "\n"
     ]
    }
   ],
   "source": [
    "match_list = plasmid.searchsequence(query=\"(?:AAAAAAAA){s<=1}\")\n",
    "plasmid.printfeature(match_list, seq=True)"
   ]
  },
  {
   "cell_type": "markdown",
   "id": "03d84f64",
   "metadata": {},
   "source": [
    "---- \n",
    "#### Example code 9: Search for a DNA sequence with the IUPAC nucleotide code"
   ]
  },
  {
   "cell_type": "code",
   "execution_count": 13,
   "id": "a5b5c3f7",
   "metadata": {},
   "outputs": [
    {
     "name": "stdout",
     "output_type": "stream",
     "text": [
      "feature_id  feature_type  qualifier:label  start  end   strand  sequence          \n",
      "null        misc_feature  null             4098   4114  +       GAGACAGCTGGTGGAA  \n",
      "null        misc_feature  null             3550   3566  -       CTGTCTGCAGGATGCC  \n",
      "null        misc_feature  null             5239   5255  -       CTCTGATGGGCTTATC  \n",
      "null        misc_feature  null             6415   6431  -       GAGAGTGCACCATAAA  \n",
      "null        misc_feature  null             8357   8373  -       GTCAGAGGTGGCGAAA  \n",
      "\n"
     ]
    }
   ],
   "source": [
    "match_list = plasmid.searchsequence(query=\"SWSWSWDSDSBHBRHH\")\n",
    "plasmid.printfeature(match_list, seq=True)"
   ]
  },
  {
   "cell_type": "markdown",
   "id": "8865235c",
   "metadata": {},
   "source": [
    "----\n",
    "#### Example code 10: Search for sequence features having specific attribute values   \n",
    "Search for DNAfeature_objects` with a feature type `\"primer_bind\"`, and then further screen ones holding a specific string in \"qualifiers:label\"."
   ]
  },
  {
   "cell_type": "code",
   "execution_count": 14,
   "id": "a1324aae",
   "metadata": {},
   "outputs": [
    {
     "name": "stdout",
     "output_type": "stream",
     "text": [
      "feature_id  feature_type  qualifier:label  start  end   strand  \n",
      "100         primer_bind   hU6-F            0      21    +       \n",
      "300         primer_bind   LKO.1 5'         171    191   +       \n",
      "1200        primer_bind   BGH-rev          5524   5542  -       \n",
      "1700        primer_bind   F1ori-R          6048   6068  -       \n",
      "1800        primer_bind   F1ori-F          6258   6280  +       \n",
      "1900        primer_bind   pRS-marker       6433   6453  -       \n",
      "2000        primer_bind   pGEX 3'          6552   6575  +       \n",
      "2100        primer_bind   pBRforEco        6612   6631  -       \n",
      "2400        primer_bind   Amp-R            7021   7041  -       \n",
      "2600        primer_bind   pBR322ori-F      8323   8343  +       \n",
      "\n",
      "feature_id  feature_type  qualifier:label  start  end   strand  \n",
      "1700        primer_bind   F1ori-R          6048   6068  -       \n",
      "2400        primer_bind   Amp-R            7021   7041  -       \n",
      "\n"
     ]
    }
   ],
   "source": [
    "feature_list = plasmid.searchfeature(key_attribute=\"feature_type\", query=\"primer_bind\")\n",
    "plasmid.printfeature(feature_list)\n",
    "sub_feature_list = plasmid.searchfeature(key_attribute=\"qualifier:label\", query=\".+-R$\", source=feature_list)\n",
    "plasmid.printfeature(sub_feature_list)"
   ]
  },
  {
   "cell_type": "markdown",
   "id": "61da3e1f",
   "metadata": {},
   "source": [
    "----\n",
    "#### Example code 11: Cut pX330 plasmid at multiple positions\n",
    "Cut a circular plasmid px330 at the three different positions, resulting in the generation of three fragments. Then, cut one of the three fragments again."
   ]
  },
  {
   "cell_type": "code",
   "execution_count": 15,
   "id": "1ce3d9ee",
   "metadata": {},
   "outputs": [
    {
     "name": "stdout",
     "output_type": "stream",
     "text": [
      "<queen.QUEEN object; project='pX330_0', length='8484 bp', topology='circular'>\n",
      "[<queen.QUEEN object; project='pX330_1', length='1000 bp', topology='linear'>, <queen.QUEEN object; project='pX330_2', length='2000 bp', topology='linear'>, <queen.QUEEN object; project='pX330_3', length='5484 bp', topology='linear'>]\n",
      "<queen.QUEEN object; project='pX330_4', length='500 bp', topology='linear'>\n",
      "<queen.QUEEN object; project='pX330_5', length='1500 bp', topology='linear'>\n"
     ]
    }
   ],
   "source": [
    "print(plasmid)\n",
    "fragments = cutdna(plasmid ,1000, 2000, 4000)\n",
    "print(fragments)\n",
    "fragment3, fragment4 = cutdna(fragments[1], 500)\n",
    "print(fragment3)\n",
    "print(fragment4)"
   ]
  },
  {
   "cell_type": "markdown",
   "id": "b61ab763",
   "metadata": {},
   "source": [
    "If an invalid cut pattern are provided, an error message will be returned.  "
   ]
  },
  {
   "cell_type": "code",
   "execution_count": 16,
   "id": "190d7dec",
   "metadata": {},
   "outputs": [],
   "source": [
    "#fragments = cutdna(plasmid, *[\"50/105\", \"100/55\", \"120/110\"])"
   ]
  },
  {
   "cell_type": "markdown",
   "id": "094f166b",
   "metadata": {},
   "source": [
    "-----\n",
    "#### Example code 12: Digest pX330 plasmid by EcoRI\n",
    "Digestion of pX330 plasmid with EcoRI can be simulated as follows.\n",
    "1. Search for EcoRI recognition sites in pX330 with its cut motif and obtain the `DNAfeature_objects` representing its cut position(s) and motif.\n",
    "2. Use the `DNAfeature_objects` to cut pX330 by `cutdna()`."
   ]
  },
  {
   "cell_type": "code",
   "execution_count": 17,
   "id": "d161d007",
   "metadata": {},
   "outputs": [
    {
     "name": "stdout",
     "output_type": "stream",
     "text": [
      "<queen.QUEEN object; project='pX330_6', length='8488 bp', topology='linear'>\n",
      "5' AATTCCTAGA...AGTAAG---- 3'\n",
      "3' ----GGATCT...TCATTCTTAA 5'\n",
      "\n"
     ]
    }
   ],
   "source": [
    "sites     = plasmid.searchsequence(\"G^AATT_C\")\n",
    "fragments = cutdna(plasmid, *sites)\n",
    "for fragment in fragments:\n",
    "    print(fragment)\n",
    "    fragment.printsequence(display=True, hide_middle=10)"
   ]
  },
  {
   "cell_type": "markdown",
   "id": "04c72da1",
   "metadata": {},
   "source": [
    "QUEEN provides a library of restriction enzyme motifs (described in the New England Biolab's website)."
   ]
  },
  {
   "cell_type": "code",
   "execution_count": 18,
   "id": "c82ad213",
   "metadata": {},
   "outputs": [
    {
     "name": "stdout",
     "output_type": "stream",
     "text": [
      "<queen.QUEEN object; project='pX330_7', length='8488 bp', topology='linear'>\n",
      "5' AATTCCTAGA...AGTAAG---- 3'\n",
      "3' ----GGATCT...TCATTCTTAA 5'\n",
      "\n"
     ]
    }
   ],
   "source": [
    "from QUEEN import cutsite #Import a restriction enzyme library \n",
    "sites = plasmid.searchsequence(cutsite.lib[\"EcoRI\"])\n",
    "fragments = cutdna(plasmid, *sites)\n",
    "for fragment in fragments: \n",
    "    print(fragment)\n",
    "    fragment.printsequence(display=True, hide_middle=10) "
   ]
  },
  {
   "cell_type": "markdown",
   "id": "a56dd5cf",
   "metadata": {},
   "source": [
    "-----\n",
    "#### Example code 13: Digest pX330 plasmid by Type-IIS restriction enzyme BbsI  "
   ]
  },
  {
   "cell_type": "code",
   "execution_count": 19,
   "id": "6ab51d2f",
   "metadata": {},
   "outputs": [
    {
     "name": "stdout",
     "output_type": "stream",
     "text": [
      "<queen.QUEEN object; project='pX330_8', length='8466 bp', topology='linear'>\n",
      "5' GTTTTAGAGC...ACGAAA---- 3'\n",
      "3' ----ATCTCG...TGCTTTGTGG 5'\n",
      "\n",
      "<queen.QUEEN object; project='pX330_9', length='26 bp', sequence='CACCGGGTCTTCGAGAAGACCTGTTT', topology='linear'>\n",
      "5' CACCGGGTCT...AGACCT---- 3'\n",
      "3' ----CCCAGA...TCTGGACAAA 5'\n",
      "\n"
     ]
    }
   ],
   "source": [
    "sites = plasmid.searchsequence(\"GAAGAC(2/6)\")\n",
    "fragments = cutdna(plasmid,*sites)\n",
    "for fragment in fragments:\n",
    "    print(fragment)\n",
    "    fragment.printsequence(display=True, hide_middle=10)"
   ]
  },
  {
   "cell_type": "markdown",
   "id": "078cbaa8",
   "metadata": {},
   "source": [
    "Here, the BbsI recognition motif can also be represented by \"(6/2)GTCTTC\", \"GAAGACNN^NNNN_\" or \"^NNNN_NNGTCTTC\".\n",
    " \n",
    "The BbsI recognition motif is also available from the library of restriction enzyme motifs. "
   ]
  },
  {
   "cell_type": "code",
   "execution_count": 20,
   "id": "c242d5c9",
   "metadata": {},
   "outputs": [
    {
     "name": "stdout",
     "output_type": "stream",
     "text": [
      "<queen.QUEEN object; project='pX330_10', length='8466 bp', topology='linear'>\n",
      "5' GTTTTAGAGC...ACGAAA---- 3'\n",
      "3' ----ATCTCG...TGCTTTGTGG 5'\n",
      "\n",
      "<queen.QUEEN object; project='pX330_11', length='26 bp', sequence='CACCGGGTCTTCGAGAAGACCTGTTT', topology='linear'>\n",
      "5' CACCGGGTCT...AGACCT---- 3'\n",
      "3' ----CCCAGA...TCTGGACAAA 5'\n",
      "\n"
     ]
    }
   ],
   "source": [
    "from QUEEN import cutsite #Import a restriction enzyme library \n",
    "sites = plasmid.searchsequence(cutsite.lib[\"BbsI\"])\n",
    "fragments = cutdna(plasmid, *sites)\n",
    "for fragment in fragments:\n",
    "    print(fragment)\n",
    "    fragment.printsequence(display=True, hide_middle=10) "
   ]
  },
  {
   "cell_type": "markdown",
   "id": "0055879f",
   "metadata": {},
   "source": [
    "Additionally, BbsI cut site also can be imported from \"Queen/RE.py\" as follows."
   ]
  },
  {
   "cell_type": "markdown",
   "id": "0d73a99c",
   "metadata": {},
   "source": [
    "----\n",
    "#### Example code 14: Crop a fragmented dna object in a specific region \n",
    "If the second fragment of \"Example code 11\" is for further manipulation, `cropdna()` is convenient."
   ]
  },
  {
   "cell_type": "code",
   "execution_count": 21,
   "id": "5b366098",
   "metadata": {},
   "outputs": [],
   "source": [
    "fragment = cropdna(plasmid ,2000, 4000)"
   ]
  },
  {
   "cell_type": "markdown",
   "id": "8d241454",
   "metadata": {},
   "source": [
    "If a start position is larger than an end position, an error message will be returned. "
   ]
  },
  {
   "cell_type": "code",
   "execution_count": 22,
   "id": "62e4d3b7",
   "metadata": {},
   "outputs": [],
   "source": [
    "#fragment = cropdna(fragment, 1500, 1000)"
   ]
  },
  {
   "cell_type": "markdown",
   "id": "b9302688",
   "metadata": {},
   "source": [
    "----\n",
    "#### Example code 15: Trim nucleotides from a blunt-ended dsDNA to generate a sticky-ended dsDNA\n",
    "Sticky ends can be generated by trimming nucleotides where their end structures are given by top and bottom strand strings with \"*\" and \"-\" separated by \"/\", respectively. The letters \"-\" indicate nucleotide letters to be trimmed, and the letters \"*\" indicate ones to remain. "
   ]
  },
  {
   "cell_type": "code",
   "execution_count": 23,
   "id": "63d9f733",
   "metadata": {},
   "outputs": [
    {
     "name": "stdout",
     "output_type": "stream",
     "text": [
      "5' TACAAAATACGTGACGTAGA 3'\n",
      "3' ATGTTTTATGCACTGCATCT 5'\n",
      "\n",
      "5' -----AATACGTGACGTAGA 3'\n",
      "3' ATGTTTTATGCACTGCAT-- 5'\n",
      "\n"
     ]
    },
    {
     "data": {
      "text/plain": [
       "'-----AATACGTGACGTAGA/ATGTTTTATGCACTGCAT--'"
      ]
     },
     "execution_count": 23,
     "metadata": {},
     "output_type": "execute_result"
    }
   ],
   "source": [
    "fragment = cropdna(plasmid, 100, 120)\n",
    "fragment.printsequence(display=True)\n",
    "fragment = modifyends(fragment, \"-----/*****\", \"**/--\")\n",
    "fragment.printsequence(display=True)"
   ]
  },
  {
   "cell_type": "markdown",
   "id": "9892c738",
   "metadata": {},
   "source": [
    "The following codes achieve the same manipulation."
   ]
  },
  {
   "cell_type": "code",
   "execution_count": 24,
   "id": "9bcd0a4b",
   "metadata": {},
   "outputs": [
    {
     "name": "stdout",
     "output_type": "stream",
     "text": [
      "5' -----AATACGTGACGTAGA 3'\n",
      "3' ATGTTTTATGCACTGCAT-- 5'\n",
      "\n"
     ]
    },
    {
     "data": {
      "text/plain": [
       "'-----AATACGTGACGTAGA/ATGTTTTATGCACTGCAT--'"
      ]
     },
     "execution_count": 24,
     "metadata": {},
     "output_type": "execute_result"
    }
   ],
   "source": [
    "fragment = cropdna(plasmid,'105/100', '120/118')\n",
    "fragment.printsequence(display=True)"
   ]
  },
  {
   "cell_type": "markdown",
   "id": "c0885074",
   "metadata": {},
   "source": [
    "A regex-like format can also be used."
   ]
  },
  {
   "cell_type": "code",
   "execution_count": 25,
   "id": "8fc066a8",
   "metadata": {},
   "outputs": [
    {
     "name": "stdout",
     "output_type": "stream",
     "text": [
      "5' -----AATACGTGACGTAGA 3'\n",
      "3' ATGTTTTATGCACTGCAT-- 5'\n",
      "\n"
     ]
    },
    {
     "data": {
      "text/plain": [
       "'-----AATACGTGACGTAGA/ATGTTTTATGCACTGCAT--'"
      ]
     },
     "execution_count": 25,
     "metadata": {},
     "output_type": "execute_result"
    }
   ],
   "source": [
    "fragment = modifyends(fragment, \"-{5}/*{5}\",\"*{2}/-{2}\")\n",
    "fragment.printsequence(display=True)"
   ]
  },
  {
   "cell_type": "markdown",
   "id": "5225f603",
   "metadata": {},
   "source": [
    "----\n",
    "#### Example code 16: Add adapter sequences  \n",
    "modifyends() can also add adapter sequences to DNA ends. "
   ]
  },
  {
   "cell_type": "code",
   "execution_count": 26,
   "id": "5a8a3a05",
   "metadata": {},
   "outputs": [
    {
     "name": "stdout",
     "output_type": "stream",
     "text": [
      "5' TACATGCTACAAAATACGTGACGTAGATACGATG 3'\n",
      "3' ATGTACGATGTTTTATGCACTGCATCTATGCTAC 5'\n",
      "\n",
      "5' ---ATGCTACAAAATACGTGACGTAGATACG--- 3'\n",
      "3' ATGTACGATGTTTTATGCACTGCATCTATGCTAC 5'\n",
      "\n"
     ]
    },
    {
     "data": {
      "text/plain": [
       "'---ATGCTACAAAATACGTGACGTAGATACG---/ATGTACGATGTTTTATGCACTGCATCTATGCTAC'"
      ]
     },
     "execution_count": 26,
     "metadata": {},
     "output_type": "execute_result"
    }
   ],
   "source": [
    "#Add blunt-ended dsDNA sequences to both ends\n",
    "fragment = cropdna(plasmid, 100, 120)\n",
    "fragment = modifyends(fragment,\"TACATGC\",\"TACGATG\")\n",
    "fragment.printsequence(display=True)\n",
    "\n",
    "#Add sticky-ended dsDNA sequences to both ends\n",
    "fragment = cropdna(plasmid, 100, 120)\n",
    "fragment = modifyends(fragment,\"---ATGC/ATGTACG\",\"TACG---/ATGCTAC\")\n",
    "fragment.printsequence(display=True)"
   ]
  },
  {
   "cell_type": "markdown",
   "id": "0d755fb3",
   "metadata": {},
   "source": [
    "----- \n",
    "#### Example code 17: Clone an EGFP fragment into pX330\n",
    "1. Generate a QUEEN class object for an EGFP fragment,\n",
    "2. Create EcoRI sites to both ends of the EGFP fragment,\n",
    "3. Digest the EGFP fragment and pX330 by EcoRI, and\n",
    "4. Assemble the EGFP fragment and linearized pX330."
   ]
  },
  {
   "cell_type": "code",
   "execution_count": 27,
   "id": "55bbedca",
   "metadata": {},
   "outputs": [],
   "source": [
    "dna2 = QUEEN(seq=\"---\")"
   ]
  },
  {
   "cell_type": "code",
   "execution_count": 28,
   "id": "5da98ef0",
   "metadata": {},
   "outputs": [
    {
     "name": "stdout",
     "output_type": "stream",
     "text": [
      "5' AATTCGGCAG...ACAAGG---- 3'\n",
      "3' ----GCCGTC...TGTTCCTTAA 5'\n",
      "\n",
      "5' AATTCCTAGA...AGTAAG---- 3'\n",
      "3' ----GGATCT...TCATTCTTAA 5'\n",
      "\n",
      "<queen.QUEEN object; project='pX330_22', length='8488 bp', topology='linear'>\n",
      "<queen.QUEEN object; project='EGFP_2', length='787 bp', topology='linear'>\n",
      "<queen.QUEEN object; project='pX330_25', length='9267 bp', topology='circular'>\n"
     ]
    }
   ],
   "source": [
    "EGFP     = QUEEN(record=\"input/EGFP.fasta\")\n",
    "EGFP     = modifyends(EGFP, cutsite.lib[\"EcoRI\"].seq, cutsite.lib[\"EcoRI\"].seq)\n",
    "sites    = EGFP.searchsequence(cutsite.lib[\"EcoRI\"]) \n",
    "insert   = cutdna(EGFP, *sites)[1]\n",
    "\n",
    "insert.printsequence(display=True, hide_middle=10)\n",
    "sites    = plasmid.searchsequence(cutsite.lib[\"EcoRI\"])\n",
    "backbone = cutdna(plasmid, *sites)[0]\n",
    "\n",
    "backbone.printsequence(display=True, hide_middle=10)\n",
    "pEGFP    = joindna(backbone, insert, topology=\"circular\") \n",
    "print(backbone)\n",
    "print(insert)\n",
    "print(pEGFP)"
   ]
  },
  {
   "cell_type": "markdown",
   "id": "b68da233",
   "metadata": {},
   "source": [
    "If connecting DNA end structures of the input QUEEN_object are not compatible, an error message will be returned."
   ]
  },
  {
   "cell_type": "code",
   "execution_count": 29,
   "id": "17d00ea3",
   "metadata": {},
   "outputs": [],
   "source": [
    "#EGFP     = QUEEN(record=\"input/EGFP.fasta\")\n",
    "#EGFP     = modifyends(EGFP, cutsite.lib[\"BamHI\"].seq, cutsite.lib[\"BamHI\"].seq)\n",
    "#sites    = EGFP.searchsequence(cutsite.lib[\"BamHI\"]) \n",
    "#insert   = cutdna(EGFP, *sites)[1]\n",
    "#insert.printsequence(display=True, hide_middle=10)\n",
    "#pEGFP    = joindna(backbone, insert, topology=\"circular\")"
   ]
  },
  {
   "cell_type": "markdown",
   "id": "86814462",
   "metadata": {
    "tags": []
   },
   "source": [
    "----\n",
    "#### Example code 18: Create a gRNA expression plasmid\n",
    "pX330 serves as a standard gRNA expression backbone plasmid. A gRNA spacer can simply be cloned into a BbsI-digested destination site of pX330 as follows:\n",
    "1. Generate sticky-ended gRNA spacer dsDNA by annealing the pair of ssDNA QUEEN objects.\n",
    "2. Digest pX330 by BbsI.\n",
    "3. Assemble the spacer with the BbsI-digested pX330."
   ]
  },
  {
   "cell_type": "code",
   "execution_count": 30,
   "id": "8cd55920",
   "metadata": {},
   "outputs": [
    {
     "name": "stdout",
     "output_type": "stream",
     "text": [
      "5' CACCGACCATTGTTCAATATCGTCC---- 3'\n",
      "3' ----CTGGTAACAAGTTATAGCAGGCAAA 5'\n",
      "\n",
      "feature_id  feature_type   qualifier:label     start  end   strand  \n",
      "0           primer_bind    hU6-F               0      21    +       \n",
      "100         promoter       U6 promoter         0      241   +       \n",
      "200         source         source              0      245   +       \n",
      "300         primer_bind    LKO.1 5'            171    191   +       \n",
      "400         source         source              245    249   +       \n",
      "500         misc_RNA       gRNA scaffold       270    346   +       \n",
      "600         source         source              270    8487  +       \n",
      "700         enhancer       CMV enhancer        442    728   +       \n",
      "800         intron         hybrid intron       986    1214  +       \n",
      "900         regulatory     Kozak sequence      1225   1235  +       \n",
      "1000        CDS            3xFLAG              1234   1300  +       \n",
      "1100        CDS            SV40 NLS            1306   1327  +       \n",
      "1200        CDS            Cas9                1351   5452  +       \n",
      "1300        CDS            nucleoplasmin NLS   5452   5500  +       \n",
      "1400        primer_bind    BGH-rev             5527   5545  -       \n",
      "1500        polyA_signal   bGH poly(A) signal  5533   5741  +       \n",
      "1600        repeat_region  AAV2 ITR            5749   5879  +       \n",
      "1700        repeat_region  AAV2 ITR            5749   5890  +       \n",
      "1800        rep_origin     f1 ori              5964   6420  +       \n",
      "1900        primer_bind    F1ori-R             6051   6071  -       \n",
      "2000        primer_bind    F1ori-F             6261   6283  +       \n",
      "2100        primer_bind    pRS-marker          6436   6456  -       \n",
      "2200        primer_bind    pGEX 3'             6555   6578  +       \n",
      "2300        primer_bind    pBRforEco           6615   6634  -       \n",
      "2400        promoter       AmpR promoter       6701   6806  +       \n",
      "2500        CDS            AmpR                6806   7667  +       \n",
      "2600        primer_bind    Amp-R               7024   7044  -       \n",
      "2700        rep_origin     ori                 7837   8426  +       \n",
      "2800        primer_bind    pBR322ori-F         8326   8346  +       \n",
      "\n",
      "<queen.QUEEN object; project='pX330_26', length='8466 bp', topology='linear'>\n",
      "<queen.QUEEN object; project='EGFP_2', length='787 bp', topology='linear'>\n",
      "<queen.QUEEN object; project='pgRNA', length='8487 bp', topology='circular'>\n"
     ]
    }
   ],
   "source": [
    "gRNA_top    = QUEEN(seq=\"CACCGACCATTGTTCAATATCGTCC\", ssdna=True)\n",
    "gRNA_bottom = QUEEN(seq=\"AAACGGACGATATTGAACAATGGTC\", ssdna=True)\n",
    "gRNA        = joindna(gRNA_top, gRNA_bottom, \n",
    "                      setfeature={\"feature_id\":\"gRNA-1\", \"feature_type\":\"gRNA\", \"qualifier:label\":\"gRNA\"})\n",
    "gRNA.printsequence(display=True)\n",
    "\n",
    "sites       = plasmid.searchsequence(cutsite.lib[\"BbsI\"])\n",
    "fragments   = cutdna(plasmid, *sites)\n",
    "backbone    = fragments[0] if len(fragments[0].seq) > len(fragments[1].seq) else fragment[1]\n",
    "pgRNA       = joindna(gRNA, backbone, topology=\"circular\", product=\"pgRNA\")\n",
    "\n",
    "pgRNA.printfeature()\n",
    "print(backbone)\n",
    "print(insert)\n",
    "print(pgRNA) "
   ]
  },
  {
   "cell_type": "markdown",
   "id": "89628299",
   "metadata": {},
   "source": [
    "----\n",
    "#### Example code 19: Flip ampicillin-resistant gene in pX330\n",
    "1. Search for the ampicillin-resistant gene in pX330,\n",
    "2. Cut pX330 with start and end positions of the ampicillin-resistant gene,\n",
    "3. Flip the ampicillin-resistant gene fragment, and \n",
    "4. Join it with the other fragment."
   ]
  },
  {
   "cell_type": "code",
   "execution_count": 31,
   "id": "96595b77",
   "metadata": {},
   "outputs": [
    {
     "name": "stdout",
     "output_type": "stream",
     "text": [
      "feature_id  feature_type  qualifier:label  start  end   strand  \n",
      "2300        CDS           AmpR             6803   7664  +       \n",
      "\n",
      "feature_id  feature_type  qualifier:label  start  end   strand  \n",
      "2400        CDS           AmpR             6803   7664  -       \n",
      "\n"
     ]
    }
   ],
   "source": [
    "site         = plasmid.searchfeature(query=\"^AmpR$\")[0]\n",
    "fragments    = cutdna(plasmid, site.start, site.end)\n",
    "fragments[0] = flipdna(fragments[0])\n",
    "new_plasmid  = joindna(*fragments, topology=\"circular\")\n",
    "plasmid.printfeature(plasmid.searchfeature(query=\"^AmpR$\"))\n",
    "new_plasmid.printfeature(new_plasmid.searchfeature(query=\"^AmpR$\")) "
   ]
  },
  {
   "cell_type": "markdown",
   "id": "b34cf043",
   "metadata": {},
   "source": [
    "#### Example code 20: Insert an EGFP sequence into pX330\n",
    "An EGFP sequence insertion to the EcoRI site demonstrated in Example code17 can be described with a simpler code using editsequence()`. "
   ]
  },
  {
   "cell_type": "code",
   "execution_count": 32,
   "id": "63c279a0",
   "metadata": {},
   "outputs": [
    {
     "name": "stdout",
     "output_type": "stream",
     "text": [
      "<queen.QUEEN object; project='pX330_0', length='8484 bp', topology='circular'>\n",
      "<queen.QUEEN object; project='pX330_35', length='9267 bp', topology='circular'>\n"
     ]
    }
   ],
   "source": [
    "EGFP  = QUEEN(record=\"input/EGFP.fasta\")\n",
    "pEGFP = editsequence(plasmid, \"({})\".format(cutsite.lib[\"EcoRI\"].seq), r\"\\1{}\\1\".format(EGFP.seq))\n",
    "print(plasmid)\n",
    "print(pEGFP)"
   ]
  },
  {
   "cell_type": "markdown",
   "id": "0ce3fbf6",
   "metadata": {},
   "source": [
    "-----\n",
    "#### Example code 21: Insert a DNA string \"AAAAA\" to the 5’ end of every CDS"
   ]
  },
  {
   "cell_type": "code",
   "execution_count": 33,
   "id": "50ea6100",
   "metadata": {},
   "outputs": [
    {
     "name": "stdout",
     "output_type": "stream",
     "text": [
      "1231\t1302\tAAAAAGACTATAAGGACCAC\t3xFLAG\n",
      "1308\t1334\tAAAAACCAAAGAAGAAGCGG\tSV40 NLS\n",
      "1358\t5464\tAAAAAGACAAGAAGTACAGC\tCas9\n",
      "5464\t5517\tAAAAAAAAAGGCCGGCGGCC\tnucleoplasmin NLS\n",
      "6823\t7689\tAAAAAATGAGTATTCAACAT\tAmpR\n"
     ]
    }
   ],
   "source": [
    "new_plasmid  = editfeature(plasmid, key_attribute=\"feature_type\", query=\"CDS\", strand=1, target_attribute=\"sequence\", operation=replaceattribute(r\"(.+)\", r\"AAAAA\\1\"))\n",
    "for feat in new_plasmid.searchfeature(key_attribute=\"feature_type\", query=\"CDS\", strand=1):\n",
    "    print(feat.start, feat.end, new_plasmid.printsequence(feat.start, feat.start+20, strand=1), feat.qualifiers[\"label\"][0], sep=\"\\t\")"
   ]
  },
  {
   "cell_type": "markdown",
   "id": "6ab3ed1a",
   "metadata": {},
   "source": [
    "-----\n",
    "#### Example code 22:  Convert the feature type of every annotation from \"CDS\" to \"gene\""
   ]
  },
  {
   "cell_type": "code",
   "execution_count": 34,
   "id": "9dd57415",
   "metadata": {},
   "outputs": [
    {
     "name": "stdout",
     "output_type": "stream",
     "text": [
      "feature_id  feature_type   qualifier:label     start  end   strand  \n",
      "0           source         source              0      8484  +       \n",
      "100         primer_bind    hU6-F               0      21    +       \n",
      "200         promoter       U6 promoter         0      241   +       \n",
      "300         primer_bind    LKO.1 5'            171    191   +       \n",
      "400         misc_RNA       gRNA scaffold       267    343   +       \n",
      "500         enhancer       CMV enhancer        439    725   +       \n",
      "600         intron         hybrid intron       983    1211  +       \n",
      "700         regulatory     Kozak sequence      1222   1232  +       \n",
      "800         gene           3xFLAG              1231   1297  +       \n",
      "900         gene           SV40 NLS            1303   1324  +       \n",
      "1000        gene           Cas9                1348   5449  +       \n",
      "1100        gene           nucleoplasmin NLS   5449   5497  +       \n",
      "1200        primer_bind    BGH-rev             5524   5542  -       \n",
      "1300        polyA_signal   bGH poly(A) signal  5530   5738  +       \n",
      "1400        repeat_region  AAV2 ITR            5746   5876  +       \n",
      "1500        repeat_region  AAV2 ITR            5746   5887  +       \n",
      "1600        rep_origin     f1 ori              5961   6417  +       \n",
      "1700        primer_bind    F1ori-R             6048   6068  -       \n",
      "1800        primer_bind    F1ori-F             6258   6280  +       \n",
      "1900        primer_bind    pRS-marker          6433   6453  -       \n",
      "2000        primer_bind    pGEX 3'             6552   6575  +       \n",
      "2100        primer_bind    pBRforEco           6612   6631  -       \n",
      "2200        promoter       AmpR promoter       6698   6803  +       \n",
      "2300        gene           AmpR                6803   7664  +       \n",
      "2400        primer_bind    Amp-R               7021   7041  -       \n",
      "2500        rep_origin     ori                 7834   8423  +       \n",
      "2600        primer_bind    pBR322ori-F         8323   8343  +       \n",
      "\n"
     ]
    }
   ],
   "source": [
    "new_plasmid = editfeature(plasmid, key_attribute=\"feature_type\", query=\"CDS\", target_attribute=\"feature_type\", operation=replaceattribute(\"gene\"))\n",
    "new_plasmid.printfeature()"
   ]
  },
  {
   "cell_type": "markdown",
   "id": "70daf0fc",
   "metadata": {},
   "source": [
    "----\n",
    "#### Example code 23: Add single cutter annotations to pX330\n",
    "1. Search for all of the single restriction enzyme cutters in pX330 using the library of restriction enzymes listed on the website of NEW England Biolabs.\n",
    "2. Add the single cutter annotations to pX330."
   ]
  },
  {
   "cell_type": "code",
   "execution_count": 35,
   "id": "7fcfead2",
   "metadata": {},
   "outputs": [
    {
     "name": "stdout",
     "output_type": "stream",
     "text": [
      "feature_id  feature_type  qualifier:label  start  end   strand  sequence      \n",
      "RE-1        misc_bind     Acc65I           433    439   +       GGTACC        \n",
      "RE-2        misc_bind     AgeI             1216   1222  +       ACCGGT        \n",
      "RE-3        misc_bind     ApaI             2700   2706  +       GGGCCC        \n",
      "RE-4        misc_bind     BglII            1595   1601  +       AGATCT        \n",
      "RE-5        misc_bind     BsaBI            4839   4849  +       GATCACCATC    \n",
      "RE-6        misc_bind     BseRI            1098   1104  -       GAGGAG        \n",
      "RE-7        misc_bind     BsmI             4979   4985  +       GAATGC        \n",
      "RE-8        misc_bind     CspCI            4127   4139  +       CAAAGCACGTGG  \n",
      "RE-9        misc_bind     EcoRI            5500   5506  +       GAATTC        \n",
      "RE-10       misc_bind     EcoRV            3196   3202  +       GATATC        \n",
      "RE-11       misc_bind     FseI             5472   5480  +       GGCCGGCC      \n",
      "RE-12       misc_bind     FspI             7365   7371  +       TGCGCA        \n",
      "RE-13       misc_bind     KasI             5887   5893  +       GGCGCC        \n",
      "RE-14       misc_bind     KpnI             433    439   +       GGTACC        \n",
      "RE-15       misc_bind     NarI             5887   5893  +       GGCGCC        \n",
      "RE-16       misc_bind     NotI             5738   5746  +       GCGGCCGC      \n",
      "RE-17       misc_bind     PaqCI            1184   1191  +       CACCTGC       \n",
      "RE-18       misc_bind     PluTI            5887   5893  +       GGCGCC        \n",
      "RE-19       misc_bind     PmlI             4132   4138  +       CACGTG        \n",
      "RE-20       misc_bind     PsiI             6317   6323  +       TTATAA        \n",
      "RE-21       misc_bind     PspOMI           2700   2706  +       GGGCCC        \n",
      "RE-22       misc_bind     PvuI             7218   7224  +       CGATCG        \n",
      "RE-23       misc_bind     SacII            7522   7528  +       CCGCGG        \n",
      "RE-24       misc_bind     SbfI             5879   5887  +       CCTGCAGG      \n",
      "RE-25       misc_bind     SfoI             5887   5893  +       GGCGCC        \n",
      "RE-26       misc_bind     SnaBI            698    704   +       TACGTA        \n",
      "RE-27       misc_bind     XbaI             427    433   +       TCTAGA        \n",
      "\n"
     ]
    }
   ],
   "source": [
    "unique_cutters = []\n",
    "for key, re in cutsite.lib.items():\n",
    "    sites = plasmid.searchsequence(re.cutsite)\n",
    "    if len(sites) == 1: \n",
    "        unique_cutters.append(sites[0])\n",
    "    else:\n",
    "        pass \n",
    "new_plasmid = editfeature(plasmid, source=unique_cutters, target_attribute=\"feature_id\", operation=createattribute(\"RE\"))\n",
    "new_plasmid = editfeature(new_plasmid, key_attribute=\"feature_id\", query=\"RE\", target_attribute=\"feature_type\", operation=replaceattribute(\"misc_bind\"))\n",
    "features    = new_plasmid.searchfeature(key_attribute=\"feature_type\", query=\"misc_bind\")\n",
    "new_plasmid.printfeature(features, seq=True)"
   ]
  }
 ],
 "metadata": {
  "kernelspec": {
   "display_name": "Python 3 (ipykernel)",
   "language": "python",
   "name": "python3"
  },
  "language_info": {
   "codemirror_mode": {
    "name": "ipython",
    "version": 3
   },
   "file_extension": ".py",
   "mimetype": "text/x-python",
   "name": "python",
   "nbconvert_exporter": "python",
   "pygments_lexer": "ipython3",
   "version": "3.10.7"
  }
 },
 "nbformat": 4,
 "nbformat_minor": 5
}
